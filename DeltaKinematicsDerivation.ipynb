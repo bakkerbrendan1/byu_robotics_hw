{
 "cells": [
  {
   "cell_type": "markdown",
   "metadata": {},
   "source": [
    "# Delta Arm Kinematics Derivation"
   ]
  },
  {
   "cell_type": "code",
   "execution_count": 5,
   "metadata": {},
   "outputs": [],
   "source": [
    "import numpy as np\n",
    "import sympy as sm\n",
    "from sympy import UnevaluatedExpr as uneval\n",
    "from IPython.display import display, Math\n",
    "from sympy.physics.vector.printing import vlatex\n",
    "\n",
    "np.set_printoptions(precision=4, suppress=True)"
   ]
  },
  {
   "cell_type": "markdown",
   "metadata": {},
   "source": [
    "### Equation of Sphere"
   ]
  },
  {
   "cell_type": "markdown",
   "metadata": {},
   "source": [
    "A sphere centered at $(x_c, y_c, z_c)$ with radius $\\ell$ is given by:\n",
    "\n",
    "$$\n",
    "(x-x_c)^2 + (y-y_c)^2 + (z-z_c)^2 = \\ell^2\n",
    "$$\n",
    "\n",
    "In our application, $(x_c, y_c, z_c)$ are the positions of the end effector."
   ]
  },
  {
   "cell_type": "code",
   "execution_count": 6,
   "metadata": {},
   "outputs": [
    {
     "name": "stdout",
     "output_type": "stream",
     "text": [
      "Equation for circle:\n"
     ]
    },
    {
     "data": {
      "text/latex": [
       "$\\displaystyle \\left(x - x_{c}\\right)^{2} + \\left(y - y_{c}\\right)^{2} + \\left(z - z_{c}\\right)^{2} = \\ell^{2}$"
      ],
      "text/plain": [
       "Eq((x - x_c)**2 + (y - y_c)**2 + (z - z_c)**2, \\ell**2)"
      ]
     },
     "execution_count": 6,
     "metadata": {},
     "output_type": "execute_result"
    }
   ],
   "source": [
    "print('Equation for circle:')\n",
    "x, xc, y, yc, z, zc, ell = sm.symbols(r'x x_c y y_c z z_c \\ell')\n",
    "\n",
    "circle = sm.Eq((x-xc)**2 + (y-yc)**2 + (z-zc)**2, ell**2)\n",
    "circle"
   ]
  },
  {
   "cell_type": "markdown",
   "metadata": {},
   "source": [
    "### Forward Kinematics"
   ]
  },
  {
   "cell_type": "markdown",
   "metadata": {},
   "source": [
    "First, we will provide forward kinematics, where we take the joint positions and give the $x, y, z$ position of the end effector."
   ]
  },
  {
   "cell_type": "code",
   "execution_count": 7,
   "metadata": {},
   "outputs": [
    {
     "name": "stdout",
     "output_type": "stream",
     "text": [
      "Forward kinematic equations of a delta arm:\n"
     ]
    },
    {
     "data": {
      "text/latex": [
       "$\\displaystyle x_c=x_{A} + \\sqrt{\\ell^{2} - y_{A}^{2} + 2 y_{A} y_{c} - y_{c}^{2} - z_{A}^{2} + 2 z_{A} z_{c} - z_{c}^{2}}$"
      ],
      "text/plain": [
       "<IPython.core.display.Math object>"
      ]
     },
     "metadata": {},
     "output_type": "display_data"
    },
    {
     "data": {
      "text/latex": [
       "$\\displaystyle y_c=y_{B} + \\sqrt{\\ell^{2} - x_{B}^{2} + 2 x_{B} x_{c} - x_{c}^{2} - z_{B}^{2} + 2 z_{B} z_{c} - z_{c}^{2}}$"
      ],
      "text/plain": [
       "<IPython.core.display.Math object>"
      ]
     },
     "metadata": {},
     "output_type": "display_data"
    },
    {
     "data": {
      "text/latex": [
       "$\\displaystyle z_c=z_{C} + \\sqrt{\\ell^{2} - x_{C}^{2} + 2 x_{C} x_{c} - x_{c}^{2} - y_{C}^{2} + 2 y_{C} y_{c} - y_{c}^{2}}$"
      ],
      "text/plain": [
       "<IPython.core.display.Math object>"
      ]
     },
     "metadata": {},
     "output_type": "display_data"
    }
   ],
   "source": [
    "print('Forward kinematic equations of a delta arm:')\n",
    "xA, xB, xC, yA, yB, yC, zA, zB, zC = sm.symbols(r'x_A, x_B, x_C, y_A, y_B, y_C, z_A, z_B, z_C')\n",
    "xsol = sm.solve(circle, xc)[1]\n",
    "xsol = xsol.subs({x: xA, y: yA, z: zA})\n",
    "\n",
    "ysol = sm.solve(circle, yc)[1]\n",
    "ysol = ysol.subs({x: xB, y: yB, z: zB})\n",
    "\n",
    "zsol = sm.solve(circle, zc)[1]\n",
    "zsol = zsol.subs({x: xC, y: yC, z: zC})\n",
    "\n",
    "display(Math(r'x_c=' + vlatex(xsol)))\n",
    "display(Math(r'y_c=' + vlatex(ysol)))\n",
    "display(Math(r'z_c=' + vlatex(zsol)))"
   ]
  },
  {
   "cell_type": "markdown",
   "metadata": {},
   "source": [
    "Let's try to solve for $x_c, y_c, z_c$ symbollically:"
   ]
  },
  {
   "cell_type": "code",
   "execution_count": 8,
   "metadata": {},
   "outputs": [
    {
     "name": "stdout",
     "output_type": "stream",
     "text": [
      "Sympy returns no output :(\n"
     ]
    }
   ],
   "source": [
    "xsol_ = sm.Eq(xc, xsol)\n",
    "ysol_ = sm.Eq(yc, ysol)\n",
    "zsol_ = sm.Eq(zc, zsol)\n",
    "\n",
    "print('Sympy returns no output :(')\n",
    "# sm.solve([xsol_, ysol_, zsol_], (xc, yc, zc)) # uncomment to try and solve again"
   ]
  },
  {
   "cell_type": "markdown",
   "metadata": {},
   "source": [
    "Let's solve numerically:"
   ]
  },
  {
   "cell_type": "markdown",
   "metadata": {},
   "source": [
    "### Inverse Kinematics"
   ]
  },
  {
   "cell_type": "markdown",
   "metadata": {},
   "source": [
    "Next, we will solve for the inverse kinematics of the arm:\n",
    "\n",
    "$$\n",
    "IK(x_c, y_c, z_c) = \\vec{q}\n",
    "$$\n",
    "\n",
    "$\\vec{q}$ is a vector of the y positions of the three actuators on the arm. We can solve for them as follows:"
   ]
  },
  {
   "cell_type": "code",
   "execution_count": 9,
   "metadata": {},
   "outputs": [
    {
     "name": "stdout",
     "output_type": "stream",
     "text": [
      "Solve for the y position of the joint:\n"
     ]
    },
    {
     "data": {
      "text/latex": [
       "$\\displaystyle z_{joint}=z_{c} + \\sqrt{\\ell^{2} - x_{c}^{2} + 2 x_{c} x_{joint} - x_{joint}^{2} - y_{c}^{2} + 2 y_{c} y_{joint} - y_{joint}^{2}}$"
      ],
      "text/plain": [
       "<IPython.core.display.Math object>"
      ]
     },
     "metadata": {},
     "output_type": "display_data"
    }
   ],
   "source": [
    "print('Solve for the y position of the joint:')\n",
    "x_joint, y_joint, z_joint = sm.symbols(r'x_{joint} y_{joint} z_{joint}')\n",
    "\n",
    "dic = {x: x_joint,\n",
    "       y: y_joint,\n",
    "       z: z_joint}\n",
    "\n",
    "iksol = sm.solve(circle.subs(dic), z_joint)[1]\n",
    "\n",
    "display(Math(r'z_{joint}=' + vlatex(iksol)))"
   ]
  }
 ],
 "metadata": {
  "kernelspec": {
   "display_name": "me537_robotics",
   "language": "python",
   "name": "python3"
  },
  "language_info": {
   "codemirror_mode": {
    "name": "ipython",
    "version": 3
   },
   "file_extension": ".py",
   "mimetype": "text/x-python",
   "name": "python",
   "nbconvert_exporter": "python",
   "pygments_lexer": "ipython3",
   "version": "3.12.4"
  }
 },
 "nbformat": 4,
 "nbformat_minor": 2
}
