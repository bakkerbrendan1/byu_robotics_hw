{
    "cells": [
        {
            "cell_type": "markdown",
            "metadata": {},
            "source": [
                "# HW 2: Introduction and Setup\n",
                "* Open the file \"transforms.py\"\n",
                "* Complete the functions marked with \"TODO\"\n",
                "* Run this notebook and check the output\n",
                "* If your code is correct, the output should exactly match the rotation matrices shown below. "
            ]
        },
        {
            "cell_type": "code",
            "execution_count": 1,
            "metadata": {},
            "outputs": [],
            "source": [
                "# this cell will fail if you haven't correctly copied transforms.py \n",
                "# (and subsequent cells will fail if you haven't completed transforms.py)\n",
                "import transforms as tr\n",
                "import numpy as np\n",
                "import sympy as sp\n",
                "import time\n",
                "\n",
                "from visualization import VizScene \n",
                "from IPython.display import Math, display\n",
                "from sympy.physics.vector import dynamicsymbols\n",
                "from sympy.physics.vector.printing import vpprint, vlatex\n"
            ]
        },
        {
            "cell_type": "markdown",
            "metadata": {},
            "source": [
                "## 2D rotation by 20 degrees\n",
                "\n",
                "A 2D rotation by 20 degrees should give the following:\n",
                "$$\n",
                "\\left[\\begin{array}{cc}\n",
                "0.9397 & -0.342\\\\\n",
                "0.342 & 0.9397\n",
                "\\end{array}\\right]\n",
                "$$"
            ]
        },
        {
            "cell_type": "code",
            "execution_count": 2,
            "metadata": {},
            "outputs": [
                {
                    "name": "stdout",
                    "output_type": "stream",
                    "text": [
                        "Define 2D Rotation with Angle = 20 degrees\n",
                        "[[ 0.93969262 -0.34202014]\n",
                        " [ 0.34202014  0.93969262]]\n"
                    ]
                }
            ],
            "source": [
                "print(\"Define 2D Rotation with Angle = 20 degrees\")\n",
                "R = tr.rot2(20.0/180.0*np.pi)\n",
                "print(R)"
            ]
        },
        {
            "cell_type": "markdown",
            "metadata": {},
            "source": [
                "## 2D rotation by 1.1 radians\n",
                "A 2D rotation by 1.1 radians should give the following:\n",
                "$$\n",
                "\\left[\\begin{array}{cc}\n",
                "0.4536 & -0.8912\\\\\n",
                "0.8912 & 0.4536\n",
                "\\end{array}\\right]\n",
                "$$"
            ]
        },
        {
            "cell_type": "code",
            "execution_count": 3,
            "metadata": {},
            "outputs": [
                {
                    "name": "stdout",
                    "output_type": "stream",
                    "text": [
                        "\n",
                        "Specify that the angle is 1.1 radians\n",
                        "[[ 0.45359612 -0.89120736]\n",
                        " [ 0.89120736  0.45359612]]\n"
                    ]
                }
            ],
            "source": [
                "print(\"\\nSpecify that the angle is 1.1 radians\")\n",
                "R = tr.rot2(1.1)\n",
                "print(R)"
            ]
        },
        {
            "cell_type": "markdown",
            "metadata": {},
            "source": [
                "## 3D rotations $R_x(30)$, $R_y(25)$, and $R_z(15)$   (all in degrees) \n",
                "\n",
                "Using the \"rotx\" function to make a 3D rotation about the x axis of 30 degrees, we get:\n",
                "$$\n",
                "\\left[\\begin{array}{ccc}\n",
                "1.0 & 0 & 0 \\\\\n",
                "0 & 0.866 & -0.5 \\\\\n",
                "0 & 0.5   & 0.866 \n",
                "\\end{array}\\right]\n",
                "$$\n",
                "\n",
                "Using the \"roty\" function to make a 3D rotation about the y axis of 25 degrees, we get:\n",
                "$$\n",
                "\\left[\\begin{array}{ccc}\n",
                "0.9063 & 0 & 0.4226 \\\\\n",
                "0 & 1.0 & 0\\\\\n",
                "-0.4226 & 0  & 0.9063 \n",
                "\\end{array}\\right]\n",
                "$$\n",
                "\n",
                "Using the \"rotz\" function to make a 3D rotation about the z axis of 15 degrees, we get:\n",
                "$$\n",
                "\\left[\\begin{array}{ccc}\n",
                "0.9659 & -0.2588 & 0 \\\\\n",
                "0.2588 & 0.9659 & 0 \\\\\n",
                "0 & 0 & 1.0\n",
                "\\end{array}\\right]\n",
                "$$"
            ]
        },
        {
            "cell_type": "code",
            "execution_count": 4,
            "metadata": {},
            "outputs": [
                {
                    "name": "stdout",
                    "output_type": "stream",
                    "text": [
                        "\n",
                        "Use rotx to make a 3D rotation about the x axis of 30 degrees\n",
                        "[[ 1.         0.         0.       ]\n",
                        " [ 0.         0.8660254 -0.5      ]\n",
                        " [ 0.         0.5        0.8660254]]\n",
                        "\n",
                        "Use roty to make a 3D rotation about the y axis of 25 degrees\n",
                        "[[ 0.90630779  0.          0.42261826]\n",
                        " [ 0.          1.          0.        ]\n",
                        " [-0.42261826  0.          0.90630779]]\n",
                        "\n",
                        "Use rotz to make a 3D rotation about the z axis of 15 degrees\n",
                        "[[ 0.96592583 -0.25881905  0.        ]\n",
                        " [ 0.25881905  0.96592583  0.        ]\n",
                        " [ 0.          0.          1.        ]]\n"
                    ]
                }
            ],
            "source": [
                "print(\"\\nUse rotx to make a 3D rotation about the x axis of 30 degrees\")\n",
                "R = tr.rotx(30.0/180.0*np.pi)\n",
                "print(R)\n",
                "\n",
                "print(\"\\nUse roty to make a 3D rotation about the y axis of 25 degrees\")\n",
                "R = tr.roty(25.0/180.0*np.pi)\n",
                "print(R)\n",
                "\n",
                "print(\"\\nUse rotz to make a 3D rotation about the z axis of 15 degrees\")\n",
                "R = tr.rotz(15.0/180.0*np.pi)\n",
                "print(R)"
            ]
        },
        {
            "cell_type": "markdown",
            "metadata": {},
            "source": [
                "## Composition of 3D rotations:\n",
                "\n",
                "Composing a 3D rotation about the x, y, and z axes as follows $R_x(10)*R_y(15)*R_z(20)$ (all in degrees), should give: \n",
                "$$\n",
                "\\left[\\begin{array}{ccc}\n",
                "0.9077 & -0.3304 & 0.2588 \\\\\n",
                "0.3791 & 0.91 & -0.1677 \\\\\n",
                "-0.1801 & 0.2504 & 0.9512 \n",
                "\\end{array}\\right]\n",
                "$$\n",
                "\n",
                "Finding the inverse of a rotation matrix, and multiplying it by the original rotation matrix, should result in the identity matrix:\n",
                "$$\n",
                "\\left[\\begin{array}{ccc}\n",
                "1.0 & 0 & 0 \\\\\n",
                "0 & 1.0 & 0 \\\\\n",
                "0 & 0 & 1.0\n",
                "\\end{array}\\right]\n",
                "$$"
            ]
        },
        {
            "cell_type": "code",
            "execution_count": 5,
            "metadata": {},
            "outputs": [
                {
                    "name": "stdout",
                    "output_type": "stream",
                    "text": [
                        "\n",
                        "Compose multiple rotations about the x, y, and z axes\n",
                        "[[ 0.90767337 -0.33036609  0.25881905]\n",
                        " [ 0.37905712  0.91004501 -0.16773126]\n",
                        " [-0.18012426  0.2503524   0.95125124]]\n",
                        "\n",
                        "Demonstrate that your implementation of the .inv() function returns the inverse of a rotation\n",
                        "[[1.00000000e+00 0.00000000e+00 0.00000000e+00]\n",
                        " [0.00000000e+00 1.00000000e+00 2.22218033e-17]\n",
                        " [0.00000000e+00 2.22218033e-17 1.00000000e+00]]\n",
                        "\n",
                        "\n"
                    ]
                }
            ],
            "source": [
                "print(\"\\nCompose multiple rotations about the x, y, and z axes\")\n",
                "R = tr.rotx(10/180.0*np.pi) @ tr.roty(15/180.0*np.pi) @ tr.rotz(20/180.0*np.pi)\n",
                "print(R)\n",
                "\n",
                "print(\"\\nDemonstrate that your implementation of the .inv() function returns the inverse of a rotation\")\n",
                "R = tr.rotx(20/180.0*np.pi)\n",
                "R = R @ tr.rot_inv(R)\n",
                "print(R)\n",
                "print(\"\\n\")"
            ]
        },
        {
            "cell_type": "markdown",
            "metadata": {},
            "source": [
                "## Checking commutativity:\n",
                "\n",
                "The previoius rotation described as $R_x(10)*R_y(15)*R_z(20)$ (all in degrees), gave the following: \n",
                "$$\n",
                "\\left[\\begin{array}{ccc}\n",
                "0.9077 & -0.3304 & 0.2588 \\\\\n",
                "0.3791 & 0.91 & -0.1677 \\\\\n",
                "-0.1801 & 0.2504 & 0.9512 \n",
                "\\end{array}\\right]\n",
                "$$\n",
                "\n",
                "Show that performing the operations in the opposite order does NOT give the same result. "
            ]
        },
        {
            "cell_type": "code",
            "execution_count": 6,
            "metadata": {},
            "outputs": [
                {
                    "name": "stdout",
                    "output_type": "stream",
                    "text": [
                        "\n",
                        "Rotation about current z, then y, then x axes:\n",
                        "[[ 0.90767337 -0.29459106  0.29890661]\n",
                        " [ 0.33036609  0.94078815 -0.07599942]\n",
                        " [-0.25881905  0.16773126  0.95125124]]\n"
                    ]
                }
            ],
            "source": [
                "print(\"\\nRotation about current z, then y, then x axes:\")\n",
                "R = tr.rotz(20/180.0*np.pi) @ tr.roty(15/180.0*np.pi) @ tr.rotx(10/180.0*np.pi)\n",
                "print(R)"
            ]
        },
        {
            "cell_type": "markdown",
            "metadata": {},
            "source": [
                "# Homework Problems"
            ]
        },
        {
            "cell_type": "markdown",
            "metadata": {},
            "source": [
                "## 2: Learn Sympy\n",
                "Complete!"
            ]
        },
        {
            "cell_type": "markdown",
            "metadata": {},
            "source": [
                "## 3: \n",
                "\n"
            ]
        },
        {
            "cell_type": "markdown",
            "metadata": {},
            "source": [
                "Consider the following sequences of rotation and write the matrix product that will give the resulting rotation matrix (don’t perform the operation, just write the correct order - e.g. $R_x(\\alpha)R_y(\\beta)$ etc.):"
            ]
        },
        {
            "cell_type": "markdown",
            "metadata": {},
            "source": [
                "1. rotate by $\\phi$ in the x-axis, $\\theta$ in the z-axis, then $\\psi$ in the y-axis all in the current frame.\n",
                "\n",
                "    $ R_x(\\phi) R_z(\\theta) R_y(\\psi) $\n",
                "    \n",
                "\n",
                "2. rotate by $\\phi$ in the x-axis, $\\theta$ in the z-axis, then $\\psi$ in the y-axis all in the fixed world frame.\n",
                "\n",
                "    $R_y(\\psi) R_z(\\theta) R_x(\\phi) $"
            ]
        },
        {
            "cell_type": "markdown",
            "metadata": {},
            "source": [
                "# 4"
            ]
        },
        {
            "cell_type": "markdown",
            "metadata": {},
            "source": [
                "A camera has its z-axis parallel to the vector [0, 1, 0] in the world frame, and its y-axis parallel to the vector [0, 0, −1]. What is the attitude of the camera with respect to the world frame expressed as a rotation matrix?"
            ]
        },
        {
            "cell_type": "markdown",
            "metadata": {},
            "source": [
                "$ R = \\begin{bmatrix}\n",
                "        1 & 0 & 0\\\\\n",
                "        0 & 0 & 1 \\\\\n",
                "        0 & -1 & 0\n",
                "        \\end{bmatrix}$"
            ]
        },
        {
            "cell_type": "markdown",
            "metadata": {},
            "source": [
                "# 5"
            ]
        },
        {
            "cell_type": "markdown",
            "metadata": {},
            "source": [
                "If coordinate frame $O_1$ is obtained by rotating coordinate frame $O_0$ by $\\frac{\\pi}{2}$ about x-axis followed by a rotation of $\\frac{\\pi}{2}$ about the y-axis, find the rotation matrix $R$ that represents the composite transformation. Sketch the initial and final frames (or use the “add frame” function again). \n",
                "\n",
                "This is for rotations about a fixed axis.\n",
                "\n"
            ]
        },
        {
            "cell_type": "code",
            "execution_count": 7,
            "metadata": {},
            "outputs": [
                {
                    "name": "stdout",
                    "output_type": "stream",
                    "text": [
                        "Rotation Matrix R = \n",
                        "[[ 0.  1.  0.  1.]\n",
                        " [ 0.  0. -1.  0.]\n",
                        " [-1.  0.  0.  0.]\n",
                        " [ 0.  0.  0.  1.]]\n"
                    ]
                }
            ],
            "source": [
                "O0 = np.eye(4)\n",
                "\n",
                "# rotate about x axis\n",
                "R_01 = lambda the: np.array([[1, 0, 0, 0],\n",
                "                             [0, np.cos(the), -np.sin(the), 0],\n",
                "                             [0, np.sin(the), np.cos(the), 0],\n",
                "                             [0, 0, 0, 1]])\n",
                "\n",
                "# rotate about y axis\n",
                "R_12 = lambda the: np.array([[np.cos(the), 0, np.sin(the), 1],\n",
                "                             [0, 1, 0, 0],\n",
                "                             [-np.sin(the), 0, np.cos(the), 0],\n",
                "                             [0, 0, 0, 1]])\n",
                "\n",
                "R =  R_12(np.pi/2) @ R_01(np.pi/2)\n",
                "R = np.round(R, decimals=3)\n",
                "\n",
                "O1 = R @ O0\n",
                "\n",
                "# run the animation\n",
                "viz = VizScene()\n",
                "viz.add_frame(O0, label='O0')\n",
                "viz.add_frame(O1, label='O1')\n",
                "\n",
                "viz.hold()\n",
                "\n",
                "viz.close_viz()\n",
                "\n",
                "print(\"Rotation Matrix R = \\n\" + str(R))\n"
            ]
        },
        {
            "attachments": {
                "image-2.png": {
                    "image/png": "[encoded data removed]"
                }
            },
            "cell_type": "markdown",
            "metadata": {},
            "source": [
                "Rotated coordinate system:\n",
                "\n",
                "(note that the translation is just to show the two coordinate systems are rotated, they end up in the same place)\n",
                "\n",
                "![image-2.png](attachment:image-2.png)"
            ]
        },
        {
            "attachments": {
                "image.png": {
                    "image/png": "[encoded data removed]"
                }
            },
            "cell_type": "markdown",
            "metadata": {},
            "source": [
                "# 6\n",
                "\n",
                "Suppose three coordinate frames $(o_1, o_2, o_3)$ are given, and that\n",
                "\n",
                "![image.png](attachment:image.png)\n",
                "\n",
                "Find the matrix $R^2_3$"
            ]
        },
        {
            "cell_type": "markdown",
            "metadata": {},
            "source": [
                "$R^1_3 = R^1_2 R^2_3 \\quad \\rightarrow \\quad  R^2_3 = (R^1_2)^T R^1_3$"
            ]
        },
        {
            "cell_type": "code",
            "execution_count": 8,
            "metadata": {},
            "outputs": [
                {
                    "data": {
                        "text/latex": [
                            "$\\displaystyle R^1_2 = \\left[\\begin{matrix}1 & 0 & 0\\\\0 & \\frac{1}{2} & - \\frac{\\sqrt{3}}{2}\\\\0 & \\frac{\\sqrt{3}}{2} & \\frac{1}{2}\\end{matrix}\\right], \\quad R^1_3 = \\left[\\begin{matrix}0 & 0 & -1\\\\0 & 1 & 0\\\\1 & 0 & 0\\end{matrix}\\right]$"
                        ],
                        "text/plain": [
                            "<IPython.core.display.Math object>"
                        ]
                    },
                    "metadata": {},
                    "output_type": "display_data"
                },
                {
                    "name": "stdout",
                    "output_type": "stream",
                    "text": [
                        "find R_23\n"
                    ]
                },
                {
                    "data": {
                        "text/latex": [
                            "$\\displaystyle R^2_3 = (R^1_2)^T R^1_3 =  \\left[\\begin{matrix}0 & 0 & -1\\\\\\frac{\\sqrt{3}}{2} & \\frac{1}{2} & 0\\\\\\frac{1}{2} & - \\frac{\\sqrt{3}}{2} & 0\\end{matrix}\\right]$"
                        ],
                        "text/plain": [
                            "<IPython.core.display.Math object>"
                        ]
                    },
                    "metadata": {},
                    "output_type": "display_data"
                }
            ],
            "source": [
                "R_12 = sp.Matrix([[1, 0, 0],\n",
                "                  [0, sp.Rational(1,2), -sp.sqrt(3)/2],\n",
                "                  [0, sp.sqrt(3)/2, sp.Rational(1,2)]])\n",
                "\n",
                "R_13 = sp.Matrix([[0, 0, -1],\n",
                "                  [0, 1, 0],\n",
                "                  [1, 0, 0]])\n",
                "\n",
                "display(Math(r'R^1_2 = ' + vlatex(R_12) + \\\n",
                "             r', \\quad R^1_3 = ' + vlatex(R_13)))\n",
                "\n",
                "R_23 = R_12.T @ R_13\n",
                "\n",
                "print('find R_23')\n",
                "display(Math(r'R^2_3 = (R^1_2)^T R^1_3 =  ' + vlatex(R_23)))"
            ]
        },
        {
            "attachments": {
                "image.png": {
                    "image/png": "[encoded data removed]"
                }
            },
            "cell_type": "markdown",
            "metadata": {},
            "source": [
                "# 7\n",
                "\n",
                "Compute the rotation matrix given by the following product: (you may use symbolic variables to do this, and remember that $\\phi$ and $\\theta$ are variables, but $\\pi$ is a numerical value that should be evaluated)\n",
                "\n",
                "![image.png](attachment:image.png)"
            ]
        },
        {
            "cell_type": "code",
            "execution_count": 9,
            "metadata": {},
            "outputs": [
                {
                    "data": {
                        "text/latex": [
                            "$\\displaystyle R =  \\left[\\begin{matrix}\\sin^{2}{\\left(\\phi \\right)} - \\cos^{2}{\\left(\\phi \\right)} & - 2 \\sin{\\left(\\phi \\right)} \\sin{\\left(\\theta \\right)} \\cos{\\left(\\phi \\right)} & 2 \\sin{\\left(\\phi \\right)} \\cos{\\left(\\phi \\right)} \\cos{\\left(\\theta \\right)}\\\\- 2 \\sin{\\left(\\phi \\right)} \\sin{\\left(\\theta \\right)} \\cos{\\left(\\phi \\right)} & - \\left(\\sin^{2}{\\left(\\phi \\right)} \\sin{\\left(\\theta \\right)} - \\sin{\\left(\\theta \\right)} \\cos^{2}{\\left(\\phi \\right)}\\right) \\sin{\\left(\\theta \\right)} - \\cos^{2}{\\left(\\theta \\right)} & \\left(\\sin^{2}{\\left(\\phi \\right)} \\sin{\\left(\\theta \\right)} - \\sin{\\left(\\theta \\right)} \\cos^{2}{\\left(\\phi \\right)}\\right) \\cos{\\left(\\theta \\right)} - \\sin{\\left(\\theta \\right)} \\cos{\\left(\\theta \\right)}\\\\2 \\sin{\\left(\\phi \\right)} \\cos{\\left(\\phi \\right)} \\cos{\\left(\\theta \\right)} & - \\left(- \\sin^{2}{\\left(\\phi \\right)} \\cos{\\left(\\theta \\right)} + \\cos^{2}{\\left(\\phi \\right)} \\cos{\\left(\\theta \\right)}\\right) \\sin{\\left(\\theta \\right)} - \\sin{\\left(\\theta \\right)} \\cos{\\left(\\theta \\right)} & \\left(- \\sin^{2}{\\left(\\phi \\right)} \\cos{\\left(\\theta \\right)} + \\cos^{2}{\\left(\\phi \\right)} \\cos{\\left(\\theta \\right)}\\right) \\cos{\\left(\\theta \\right)} - \\sin^{2}{\\left(\\theta \\right)}\\end{matrix}\\right]$"
                        ],
                        "text/plain": [
                            "<IPython.core.display.Math object>"
                        ]
                    },
                    "metadata": {},
                    "output_type": "display_data"
                },
                {
                    "name": "stdout",
                    "output_type": "stream",
                    "text": [
                        "\n",
                        "Simplified:\n"
                    ]
                },
                {
                    "data": {
                        "text/latex": [
                            "$\\displaystyle \\left[\\begin{matrix}- \\cos{\\left(2 \\phi \\right)} & - \\frac{\\cos{\\left(2 \\phi - \\theta \\right)}}{2} + \\frac{\\cos{\\left(2 \\phi + \\theta \\right)}}{2} & \\frac{\\sin{\\left(2 \\phi - \\theta \\right)}}{2} + \\frac{\\sin{\\left(2 \\phi + \\theta \\right)}}{2}\\\\- \\frac{\\cos{\\left(2 \\phi - \\theta \\right)}}{2} + \\frac{\\cos{\\left(2 \\phi + \\theta \\right)}}{2} & - 2 \\sin^{2}{\\left(\\phi \\right)} \\sin^{2}{\\left(\\theta \\right)} + 2 \\sin^{2}{\\left(\\theta \\right)} - 1 & - 2 \\sin{\\left(\\theta \\right)} \\cos^{2}{\\left(\\phi \\right)} \\cos{\\left(\\theta \\right)}\\\\\\frac{\\sin{\\left(2 \\phi - \\theta \\right)}}{2} + \\frac{\\sin{\\left(2 \\phi + \\theta \\right)}}{2} & - 2 \\sin{\\left(\\theta \\right)} \\cos^{2}{\\left(\\phi \\right)} \\cos{\\left(\\theta \\right)} & 2 \\cos^{2}{\\left(\\phi \\right)} \\cos^{2}{\\left(\\theta \\right)} - 1\\end{matrix}\\right]$"
                        ],
                        "text/plain": [
                            "Matrix([\n",
                            "[                                    -cos(2*\\phi),      -cos(2*\\phi - \\theta)/2 + cos(2*\\phi + \\theta)/2, sin(2*\\phi - \\theta)/2 + sin(2*\\phi + \\theta)/2],\n",
                            "[-cos(2*\\phi - \\theta)/2 + cos(2*\\phi + \\theta)/2, -2*sin(\\phi)**2*sin(\\theta)**2 + 2*sin(\\theta)**2 - 1,         -2*sin(\\theta)*cos(\\phi)**2*cos(\\theta)],\n",
                            "[ sin(2*\\phi - \\theta)/2 + sin(2*\\phi + \\theta)/2,               -2*sin(\\theta)*cos(\\phi)**2*cos(\\theta),               2*cos(\\phi)**2*cos(\\theta)**2 - 1]])"
                        ]
                    },
                    "execution_count": 9,
                    "metadata": {},
                    "output_type": "execute_result"
                }
            ],
            "source": [
                "phi, theta = sp.symbols(r'\\phi \\theta')\n",
                "\n",
                "# Define functions for Rx, Ry, and Rz\n",
                "Rx_f = lambda the: sp.Matrix([[1, 0, 0],\n",
                "                              [0, sp.cos(the), -sp.sin(the)],\n",
                "                              [0, sp.sin(the), sp.cos(the)]])\n",
                "\n",
                "Ry_f = lambda the: sp.Matrix([[sp.cos(the), 0, sp.sin(the)],\n",
                "                              [0, 1, 0],\n",
                "                              [-sp.sin(the), 0, sp.cos(the)]])\n",
                "\n",
                "Rz_f = lambda the: sp.Matrix([[sp.cos(the), -sp.sin(the), 0],\n",
                "                              [sp.sin(the), sp.cos(the), 0],\n",
                "                              [0, 0, 1]])\n",
                "\n",
                "R = Rx_f(theta) @ Ry_f(phi) @ Rz_f(sp.pi) @ Ry_f(-phi) @ Rx_f(-theta)\n",
                "# R = tr.rotx(theta) @ tr.roty(phi) @ tr.rotz(sp.pi) @ tr.roty(-phi) @ tr.rotx(-theta)\n",
                "display(Math(r'R =  ' + vlatex(R)))\n",
                "\n",
                "print('\\nSimplified:')\n",
                "sp.trigsimp(R)\n",
                "\n"
            ]
        },
        {
            "cell_type": "markdown",
            "metadata": {},
            "source": [
                "# 8\n",
                "\n",
                "Find the rotation matrix corresponding to the Euler angles $\\phi = \\frac{\\pi}{2}$ , $\\theta = 0$, and $\\psi = \\frac{\\pi}{4}$, about the Z, then Y, then Z axes. What is the direction of the new x-axis relative to the base frame?"
            ]
        },
        {
            "cell_type": "code",
            "execution_count": 10,
            "metadata": {},
            "outputs": [
                {
                    "data": {
                        "text/latex": [
                            "$\\displaystyle R = \\left[\\begin{matrix}\\sin^{2}{\\left(\\phi \\right)} - \\cos^{2}{\\left(\\phi \\right)} & - 2 \\sin{\\left(\\phi \\right)} \\sin{\\left(\\theta \\right)} \\cos{\\left(\\phi \\right)} & 2 \\sin{\\left(\\phi \\right)} \\cos{\\left(\\phi \\right)} \\cos{\\left(\\theta \\right)}\\\\- 2 \\sin{\\left(\\phi \\right)} \\sin{\\left(\\theta \\right)} \\cos{\\left(\\phi \\right)} & - \\left(\\sin^{2}{\\left(\\phi \\right)} \\sin{\\left(\\theta \\right)} - \\sin{\\left(\\theta \\right)} \\cos^{2}{\\left(\\phi \\right)}\\right) \\sin{\\left(\\theta \\right)} - \\cos^{2}{\\left(\\theta \\right)} & \\left(\\sin^{2}{\\left(\\phi \\right)} \\sin{\\left(\\theta \\right)} - \\sin{\\left(\\theta \\right)} \\cos^{2}{\\left(\\phi \\right)}\\right) \\cos{\\left(\\theta \\right)} - \\sin{\\left(\\theta \\right)} \\cos{\\left(\\theta \\right)}\\\\2 \\sin{\\left(\\phi \\right)} \\cos{\\left(\\phi \\right)} \\cos{\\left(\\theta \\right)} & - \\left(- \\sin^{2}{\\left(\\phi \\right)} \\cos{\\left(\\theta \\right)} + \\cos^{2}{\\left(\\phi \\right)} \\cos{\\left(\\theta \\right)}\\right) \\sin{\\left(\\theta \\right)} - \\sin{\\left(\\theta \\right)} \\cos{\\left(\\theta \\right)} & \\left(- \\sin^{2}{\\left(\\phi \\right)} \\cos{\\left(\\theta \\right)} + \\cos^{2}{\\left(\\phi \\right)} \\cos{\\left(\\theta \\right)}\\right) \\cos{\\left(\\theta \\right)} - \\sin^{2}{\\left(\\theta \\right)}\\end{matrix}\\right]$"
                        ],
                        "text/plain": [
                            "<IPython.core.display.Math object>"
                        ]
                    },
                    "metadata": {},
                    "output_type": "display_data"
                },
                {
                    "name": "stdout",
                    "output_type": "stream",
                    "text": [
                        "R = \n",
                        "[[-0.70710678 -0.70710678  0.        ]\n",
                        " [ 0.70710678 -0.70710678  0.        ]\n",
                        " [ 0.          0.          1.        ]]\n"
                    ]
                }
            ],
            "source": [
                "R_sym = Rz_f(sp.pi/2) @ Ry_f(0) @ Rz_f(sp.pi/4)\n",
                "display(Math(r'R = ' + vlatex(R)))\n",
                "\n",
                "R = np.array(R_sym).astype(np.float64)\n",
                "print('R = \\n' + str(R))\n",
                "\n",
                "R = np.column_stack((R, [0, 0, 0]))\n",
                "R = np.vstack((R, [0, 0, 0, 1]))\n",
                "\n",
                "viz = VizScene()\n",
                "viz.add_frame(O0, label='O0')\n",
                "viz.add_frame(R, label='R')\n",
                "\n",
                "viz.hold()\n",
                "\n",
                "viz.close_viz()"
            ]
        },
        {
            "attachments": {
                "image.png": {
                    "image/png": "[encoded data removed]"
                }
            },
            "cell_type": "markdown",
            "metadata": {},
            "source": [
                "Original coordinate system (O0) and the new x axis (R) in red, pointing 45 degrees from the original x and -y axis, on the xy plane.\n",
                "\n",
                "![image.png](attachment:image.png)"
            ]
        },
        {
            "attachments": {
                "image.png": {
                    "image/png": "[encoded data removed]"
                }
            },
            "cell_type": "markdown",
            "metadata": {},
            "source": [
                "## 9\n",
                "\n",
                "Make an animation of a rotating coordinate frame and either video it with a phone or screen capture for submission. You can do this in a new Python file, or use the Jupyter notebook (building on examples from HW 01). You can describe this transform using an equation like the following (but you can also pick your own as well as long as it results in an actual\n",
                "rotation matrix in the top left 3x3 entries):\n",
                "\n",
                "![image.png](attachment:image.png)\n",
                "\n",
                "The animation can be done using the ```add_frame``` function from HW01, but by passing an additional argument to the ```viz.update()``` function as follows (where the matrix argument just tells our function how to change the frame orientation over time):\n",
                "\n",
                "```viz.update(As=[np.eye(4), Tw_to_frame1])```\n",
                "\n",
                "In other words, we just need to pass in an updated transformation for each frame if we want to plot them over time or as they change. The first frame (identity) is not required, but we do need to update every frame that has been declared."
            ]
        },
        {
            "cell_type": "code",
            "execution_count": 11,
            "metadata": {},
            "outputs": [
                {
                    "name": "stderr",
                    "output_type": "stream",
                    "text": [
                        "c:\\Users\\brend\\miniforge3\\envs\\me537_robotics\\Lib\\site-packages\\pyqtgraph\\opengl\\GLViewWidget.py:231: RuntimeWarning: \n",
                        "Traceback (most recent call last):\n",
                        "  File \"<frozen runpy>\", line 198, in _run_module_as_main\n",
                        "  File \"<frozen runpy>\", line 88, in _run_code\n",
                        "  File \"c:\\Users\\brend\\miniforge3\\envs\\me537_robotics\\Lib\\site-packages\\ipykernel_launcher.py\", line 18, in <module>\n",
                        "    app.launch_new_instance()\n",
                        "  File \"c:\\Users\\brend\\miniforge3\\envs\\me537_robotics\\Lib\\site-packages\\traitlets\\config\\application.py\", line 1075, in launch_instance\n",
                        "    app.start()\n",
                        "  File \"c:\\Users\\brend\\miniforge3\\envs\\me537_robotics\\Lib\\site-packages\\ipykernel\\kernelapp.py\", line 739, in start\n",
                        "    self.io_loop.start()\n",
                        "  File \"c:\\Users\\brend\\miniforge3\\envs\\me537_robotics\\Lib\\site-packages\\tornado\\platform\\asyncio.py\", line 205, in start\n",
                        "    self.asyncio_loop.run_forever()\n",
                        "  File \"c:\\Users\\brend\\miniforge3\\envs\\me537_robotics\\Lib\\asyncio\\base_events.py\", line 641, in run_forever\n",
                        "    self._run_once()\n",
                        "  File \"c:\\Users\\brend\\miniforge3\\envs\\me537_robotics\\Lib\\asyncio\\base_events.py\", line 1987, in _run_once\n",
                        "    handle._run()\n",
                        "  File \"c:\\Users\\brend\\miniforge3\\envs\\me537_robotics\\Lib\\asyncio\\events.py\", line 88, in _run\n",
                        "    self._context.run(self._callback, *self._args)\n",
                        "  File \"c:\\Users\\brend\\miniforge3\\envs\\me537_robotics\\Lib\\site-packages\\ipykernel\\kernelbase.py\", line 545, in dispatch_queue\n",
                        "    await self.process_one()\n",
                        "  File \"c:\\Users\\brend\\miniforge3\\envs\\me537_robotics\\Lib\\site-packages\\ipykernel\\kernelbase.py\", line 534, in process_one\n",
                        "    await dispatch(*args)\n",
                        "  File \"c:\\Users\\brend\\miniforge3\\envs\\me537_robotics\\Lib\\site-packages\\ipykernel\\kernelbase.py\", line 437, in dispatch_shell\n",
                        "    await result\n",
                        "  File \"c:\\Users\\brend\\miniforge3\\envs\\me537_robotics\\Lib\\site-packages\\ipykernel\\ipkernel.py\", line 362, in execute_request\n",
                        "    await super().execute_request(stream, ident, parent)\n",
                        "  File \"c:\\Users\\brend\\miniforge3\\envs\\me537_robotics\\Lib\\site-packages\\ipykernel\\kernelbase.py\", line 778, in execute_request\n",
                        "    reply_content = await reply_content\n",
                        "  File \"c:\\Users\\brend\\miniforge3\\envs\\me537_robotics\\Lib\\site-packages\\ipykernel\\ipkernel.py\", line 449, in do_execute\n",
                        "    res = shell.run_cell(\n",
                        "  File \"c:\\Users\\brend\\miniforge3\\envs\\me537_robotics\\Lib\\site-packages\\ipykernel\\zmqshell.py\", line 549, in run_cell\n",
                        "    return super().run_cell(*args, **kwargs)\n",
                        "  File \"c:\\Users\\brend\\miniforge3\\envs\\me537_robotics\\Lib\\site-packages\\IPython\\core\\interactiveshell.py\", line 3075, in run_cell\n",
                        "    result = self._run_cell(\n",
                        "  File \"c:\\Users\\brend\\miniforge3\\envs\\me537_robotics\\Lib\\site-packages\\IPython\\core\\interactiveshell.py\", line 3130, in _run_cell\n",
                        "    result = runner(coro)\n",
                        "  File \"c:\\Users\\brend\\miniforge3\\envs\\me537_robotics\\Lib\\site-packages\\IPython\\core\\async_helpers.py\", line 128, in _pseudo_sync_runner\n",
                        "    coro.send(None)\n",
                        "  File \"c:\\Users\\brend\\miniforge3\\envs\\me537_robotics\\Lib\\site-packages\\IPython\\core\\interactiveshell.py\", line 3334, in run_cell_async\n",
                        "    has_raised = await self.run_ast_nodes(code_ast.body, cell_name,\n",
                        "  File \"c:\\Users\\brend\\miniforge3\\envs\\me537_robotics\\Lib\\site-packages\\IPython\\core\\interactiveshell.py\", line 3517, in run_ast_nodes\n",
                        "    if await self.run_code(code, result, async_=asy):\n",
                        "  File \"c:\\Users\\brend\\miniforge3\\envs\\me537_robotics\\Lib\\site-packages\\IPython\\core\\interactiveshell.py\", line 3577, in run_code\n",
                        "    exec(code_obj, self.user_global_ns, self.user_ns)\n",
                        "  File \"C:\\Users\\brend\\AppData\\Local\\Temp\\ipykernel_2624\\1757292428.py\", line 24, in <module>\n",
                        "    viz.update(As=[np.eye(4), Tw_to_frame1, Tw_to_frame1_2])\n",
                        "  File \"g:\\My Drive\\School\\ME537_Robotics\\git_files\\visualization.py\", line 396, in update\n",
                        "    self.app.processEvents()\n",
                        "  File \"c:\\Users\\brend\\miniforge3\\envs\\me537_robotics\\Lib\\site-packages\\pyqtgraph\\opengl\\GLViewWidget.py\", line 210, in paintGL\n",
                        "    self.drawItemTree(useItemNames=useItemNames)\n",
                        "  File \"c:\\Users\\brend\\miniforge3\\envs\\me537_robotics\\Lib\\site-packages\\pyqtgraph\\opengl\\GLViewWidget.py\", line 242, in drawItemTree\n",
                        "    self.drawItemTree(i, useItemNames=useItemNames)\n",
                        "  File \"c:\\Users\\brend\\miniforge3\\envs\\me537_robotics\\Lib\\site-packages\\pyqtgraph\\opengl\\GLViewWidget.py\", line 231, in drawItemTree\n",
                        "    debug.printExc()\n",
                        "  --- exception caught here ---\n",
                        "  File \"c:\\Users\\brend\\miniforge3\\envs\\me537_robotics\\Lib\\site-packages\\pyqtgraph\\opengl\\GLViewWidget.py\", line 228, in drawItemTree\n",
                        "    i.paint()\n",
                        "  File \"c:\\Users\\brend\\miniforge3\\envs\\me537_robotics\\Lib\\site-packages\\pyqtgraph\\opengl\\items\\GLGridItem.py\", line 66, in paint\n",
                        "    self.setupGLState()\n",
                        "  File \"c:\\Users\\brend\\miniforge3\\envs\\me537_robotics\\Lib\\site-packages\\pyqtgraph\\opengl\\GLGraphicsItem.py\", line 259, in setupGLState\n",
                        "    func(*v)\n",
                        "  File \"c:\\Users\\brend\\miniforge3\\envs\\me537_robotics\\Lib\\site-packages\\OpenGL\\error.py\", line 228, in glCheckError\n",
                        "    raise GLError(\n",
                        "OpenGL.error.GLError: GLError(\n",
                        "\terr = 1282,\n",
                        "\tdescription = b'invalid operation',\n",
                        "\tbaseOperation = glBlendFunc,\n",
                        "\tcArguments = (GL_SRC_ALPHA, GL_ONE_MINUS_SRC_ALPHA)\n",
                        ")\n",
                        "  debug.printExc()\n"
                    ]
                },
                {
                    "name": "stdout",
                    "output_type": "stream",
                    "text": [
                        "Error while drawing item <pyqtgraph.opengl.items.GLGridItem.GLGridItem object at 0x000001B6A6EA96D0>.\n"
                    ]
                },
                {
                    "ename": "GLError",
                    "evalue": "GLError(\n\terr = 1282,\n\tdescription = b'invalid operation',\n\tbaseOperation = glMatrixMode,\n\tcArguments = (GL_MODELVIEW,)\n)",
                    "output_type": "error",
                    "traceback": [
                        "\u001b[1;31m---------------------------------------------------------------------------\u001b[0m",
                        "\u001b[1;31mGLError\u001b[0m                                   Traceback (most recent call last)",
                        "File \u001b[1;32mc:\\Users\\brend\\miniforge3\\envs\\me537_robotics\\Lib\\site-packages\\pyqtgraph\\opengl\\GLViewWidget.py:242\u001b[0m, in \u001b[0;36mGLViewMixin.drawItemTree\u001b[1;34m(self, item, useItemNames)\u001b[0m\n\u001b[0;32m    241\u001b[0m     glMultMatrixf(np\u001b[38;5;241m.\u001b[39marray(tr\u001b[38;5;241m.\u001b[39mdata(), dtype\u001b[38;5;241m=\u001b[39mnp\u001b[38;5;241m.\u001b[39mfloat32))\n\u001b[1;32m--> 242\u001b[0m     \u001b[38;5;28;43mself\u001b[39;49m\u001b[38;5;241;43m.\u001b[39;49m\u001b[43mdrawItemTree\u001b[49m\u001b[43m(\u001b[49m\u001b[43mi\u001b[49m\u001b[43m,\u001b[49m\u001b[43m \u001b[49m\u001b[43museItemNames\u001b[49m\u001b[38;5;241;43m=\u001b[39;49m\u001b[43museItemNames\u001b[49m\u001b[43m)\u001b[49m\n\u001b[0;32m    243\u001b[0m \u001b[38;5;28;01mfinally\u001b[39;00m:\n",
                        "File \u001b[1;32mc:\\Users\\brend\\miniforge3\\envs\\me537_robotics\\Lib\\site-packages\\pyqtgraph\\opengl\\GLViewWidget.py:235\u001b[0m, in \u001b[0;36mGLViewMixin.drawItemTree\u001b[1;34m(self, item, useItemNames)\u001b[0m\n\u001b[0;32m    234\u001b[0m     \u001b[38;5;28;01mfinally\u001b[39;00m:\n\u001b[1;32m--> 235\u001b[0m         \u001b[43mglPopAttrib\u001b[49m\u001b[43m(\u001b[49m\u001b[43m)\u001b[49m\n\u001b[0;32m    236\u001b[0m \u001b[38;5;28;01melse\u001b[39;00m:\n",
                        "File \u001b[1;32mc:\\Users\\brend\\miniforge3\\envs\\me537_robotics\\Lib\\site-packages\\OpenGL\\error.py:228\u001b[0m, in \u001b[0;36m_ErrorChecker.glCheckError\u001b[1;34m(self, result, baseOperation, cArguments, *args)\u001b[0m\n\u001b[0;32m    227\u001b[0m \u001b[38;5;28;01mif\u001b[39;00m err \u001b[38;5;241m!=\u001b[39m \u001b[38;5;28mself\u001b[39m\u001b[38;5;241m.\u001b[39m_noErrorResult:\n\u001b[1;32m--> 228\u001b[0m     \u001b[38;5;28;01mraise\u001b[39;00m GLError(\n\u001b[0;32m    229\u001b[0m         err,\n\u001b[0;32m    230\u001b[0m         result,\n\u001b[0;32m    231\u001b[0m         cArguments \u001b[38;5;241m=\u001b[39m cArguments,\n\u001b[0;32m    232\u001b[0m         baseOperation \u001b[38;5;241m=\u001b[39m baseOperation,\n\u001b[0;32m    233\u001b[0m     )\n\u001b[0;32m    234\u001b[0m \u001b[38;5;28;01mreturn\u001b[39;00m result\n",
                        "\u001b[1;31mGLError\u001b[0m: GLError(\n\terr = 1282,\n\tdescription = b'invalid operation',\n\tbaseOperation = glPopAttrib,\n\tcArguments = ()\n)",
                        "\nDuring handling of the above exception, another exception occurred:\n",
                        "\u001b[1;31mGLError\u001b[0m                                   Traceback (most recent call last)",
                        "File \u001b[1;32mc:\\Users\\brend\\miniforge3\\envs\\me537_robotics\\Lib\\site-packages\\pyqtgraph\\opengl\\GLViewWidget.py:210\u001b[0m, in \u001b[0;36mGLViewMixin.paintGL\u001b[1;34m(self, region, viewport, useItemNames)\u001b[0m\n\u001b[0;32m    208\u001b[0m glClearColor(\u001b[38;5;241m*\u001b[39mbgcolor)\n\u001b[0;32m    209\u001b[0m glClear( GL_DEPTH_BUFFER_BIT \u001b[38;5;241m|\u001b[39m GL_COLOR_BUFFER_BIT )\n\u001b[1;32m--> 210\u001b[0m \u001b[38;5;28;43mself\u001b[39;49m\u001b[38;5;241;43m.\u001b[39;49m\u001b[43mdrawItemTree\u001b[49m\u001b[43m(\u001b[49m\u001b[43museItemNames\u001b[49m\u001b[38;5;241;43m=\u001b[39;49m\u001b[43museItemNames\u001b[49m\u001b[43m)\u001b[49m\n",
                        "File \u001b[1;32mc:\\Users\\brend\\miniforge3\\envs\\me537_robotics\\Lib\\site-packages\\pyqtgraph\\opengl\\GLViewWidget.py:244\u001b[0m, in \u001b[0;36mGLViewMixin.drawItemTree\u001b[1;34m(self, item, useItemNames)\u001b[0m\n\u001b[0;32m    242\u001b[0m     \u001b[38;5;28mself\u001b[39m\u001b[38;5;241m.\u001b[39mdrawItemTree(i, useItemNames\u001b[38;5;241m=\u001b[39museItemNames)\n\u001b[0;32m    243\u001b[0m \u001b[38;5;28;01mfinally\u001b[39;00m:\n\u001b[1;32m--> 244\u001b[0m     \u001b[43mglMatrixMode\u001b[49m\u001b[43m(\u001b[49m\u001b[43mGL_MODELVIEW\u001b[49m\u001b[43m)\u001b[49m\n\u001b[0;32m    245\u001b[0m     glPopMatrix()\n",
                        "File \u001b[1;32mc:\\Users\\brend\\miniforge3\\envs\\me537_robotics\\Lib\\site-packages\\OpenGL\\error.py:228\u001b[0m, in \u001b[0;36m_ErrorChecker.glCheckError\u001b[1;34m(self, result, baseOperation, cArguments, *args)\u001b[0m\n\u001b[0;32m    226\u001b[0m err \u001b[38;5;241m=\u001b[39m \u001b[38;5;28mself\u001b[39m\u001b[38;5;241m.\u001b[39m_currentChecker()\n\u001b[0;32m    227\u001b[0m \u001b[38;5;28;01mif\u001b[39;00m err \u001b[38;5;241m!=\u001b[39m \u001b[38;5;28mself\u001b[39m\u001b[38;5;241m.\u001b[39m_noErrorResult:\n\u001b[1;32m--> 228\u001b[0m     \u001b[38;5;28;01mraise\u001b[39;00m GLError(\n\u001b[0;32m    229\u001b[0m         err,\n\u001b[0;32m    230\u001b[0m         result,\n\u001b[0;32m    231\u001b[0m         cArguments \u001b[38;5;241m=\u001b[39m cArguments,\n\u001b[0;32m    232\u001b[0m         baseOperation \u001b[38;5;241m=\u001b[39m baseOperation,\n\u001b[0;32m    233\u001b[0m     )\n\u001b[0;32m    234\u001b[0m \u001b[38;5;28;01mreturn\u001b[39;00m result\n",
                        "\u001b[1;31mGLError\u001b[0m: GLError(\n\terr = 1282,\n\tdescription = b'invalid operation',\n\tbaseOperation = glMatrixMode,\n\tcArguments = (GL_MODELVIEW,)\n)"
                    ]
                }
            ],
            "source": [
                "Tw_to_frame1_f = lambda t: np.array([[np.cos(np.pi/2 * t), -np.sin(np.pi/2 * t), 0, 1],\n",
                "                                   [np.sin(np.pi/2 * t), np.cos(np.pi/2 * t), 0, 0],\n",
                "                                   [0, 0, 1, 0],\n",
                "                                   [0, 0, 0, 1]])\n",
                "\n",
                "def Tw_to_frame1_f2(t):\n",
                "    R = tr.rotx(np.pi/2 * t) @ tr.roty(np.pi/2 * t) @ tr.rotz(np.pi/2 * t)\n",
                "    R = np.column_stack((R, [1, 1, 0]))\n",
                "    R = np.vstack((R, [0, 0, 0, 1]))\n",
                "    \n",
                "    return R\n",
                "\n",
                "viz = VizScene()\n",
                "viz.add_frame(np.eye(4), label='world')\n",
                "viz.add_frame(Tw_to_frame1_f(0), label='frame1')\n",
                "viz.add_frame(Tw_to_frame1_f2(0), label='frame2')\n",
                "\n",
                "time_to_run = 10\n",
                "refresh_rate = 60\n",
                "for i in range(refresh_rate * time_to_run):\n",
                "    t = time.time()\n",
                "    Tw_to_frame1 = Tw_to_frame1_f(t)\n",
                "    Tw_to_frame1_2 = Tw_to_frame1_f2(t)\n",
                "    viz.update(As=[np.eye(4), Tw_to_frame1, Tw_to_frame1_2])\n",
                "    time.sleep(1.0/refresh_rate)\n",
                "\n",
                "viz.close_viz()"
            ]
        },
        {
            "cell_type": "markdown",
            "metadata": {},
            "source": [
                "## Animating a Coordinate Frame\n",
                "\n",
                "We can implement and test the code for problem 9 here:"
            ]
        },
        {
            "cell_type": "code",
            "execution_count": 12,
            "metadata": {},
            "outputs": [],
            "source": [
                "import time\n",
                "from visualization import VizScene \n",
                "\n",
                "# now you can use functions like \"VizScene\" and \"add_frame\" \n",
                "# as demonstrated in HW 01 to animate a frame.  \n"
            ]
        }
    ],
    "metadata": {
        "interpreter": {
            "hash": "31f2aee4e71d21fbe5cf8b01ff0e069b9275f58929596ceb00d14d90e3e16cd6"
        },
        "kernelspec": {
            "display_name": "Python 3.8.10 64-bit",
            "name": "python3"
        },
        "language_info": {
            "codemirror_mode": {
                "name": "ipython",
                "version": 3
            },
            "file_extension": ".py",
            "mimetype": "text/x-python",
            "name": "python",
            "nbconvert_exporter": "python",
            "pygments_lexer": "ipython3",
            "version": "3.12.4"
        },
        "orig_nbformat": 4
    },
    "nbformat": 4,
    "nbformat_minor": 2
}
